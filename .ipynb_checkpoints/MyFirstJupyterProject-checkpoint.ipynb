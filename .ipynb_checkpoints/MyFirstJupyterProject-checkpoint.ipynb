{
 "cells": [
  {
   "cell_type": "code",
   "execution_count": 38,
   "metadata": {},
   "outputs": [
    {
     "name": "stdout",
     "output_type": "stream",
     "text": [
      "Wanda Elizabeth\n"
     ]
    }
   ],
   "source": [
    "print('Wanda Elizabeth')"
   ]
  },
  {
   "cell_type": "code",
   "execution_count": 39,
   "metadata": {},
   "outputs": [
    {
     "name": "stdout",
     "output_type": "stream",
     "text": [
      "Hello World\n"
     ]
    }
   ],
   "source": [
    "print('Hello World')"
   ]
  },
  {
   "cell_type": "code",
   "execution_count": 45,
   "metadata": {},
   "outputs": [
    {
     "name": "stdout",
     "output_type": "stream",
     "text": [
      "39\n"
     ]
    }
   ],
   "source": [
    "a=9\n",
    "b=30\n",
    "c=a+b\n",
    "print(c)"
   ]
  },
  {
   "cell_type": "code",
   "execution_count": 51,
   "metadata": {},
   "outputs": [
    {
     "name": "stdout",
     "output_type": "stream",
     "text": [
      "Name: Python Year : 2023\n"
     ]
    }
   ],
   "source": [
    "name='Python'\n",
    "year=2023\n",
    "date=21\n",
    "time=02:00PM\n",
    "\n",
    "print(\"Name: {0} Year : {1} Date : {2} Time : {3}\".format(name,year,date,time))"
   ]
  },
  {
   "cell_type": "code",
   "execution_count": 46,
   "metadata": {},
   "outputs": [
    {
     "name": "stdout",
     "output_type": "stream",
     "text": [
      "[2, 4, 8]\n"
     ]
    }
   ],
   "source": [
    "\n",
    "\n",
    "def Numbers(a):\n",
    "    a.remove(a[-2])\n",
    "    print(a)\n",
    "a=[2,4,6,8]   \n",
    "Numbers(a)\n"
   ]
  },
  {
   "cell_type": "code",
   "execution_count": 47,
   "metadata": {},
   "outputs": [
    {
     "name": "stdout",
     "output_type": "stream",
     "text": [
      "['Wanda', 'Wairimu']\n"
     ]
    }
   ],
   "source": [
    "def Names(name):\n",
    "   n.remove(n[1])\n",
    "   print(n)\n",
    "n=['Wanda','Elizabeth','Wairimu'] \n",
    "Names(n)"
   ]
  },
  {
   "cell_type": "code",
   "execution_count": 48,
   "metadata": {},
   "outputs": [
    {
     "name": "stdout",
     "output_type": "stream",
     "text": [
      "2\n"
     ]
    }
   ],
   "source": [
    "def week(days):\n",
    "    print(days.count(\"Monday\"))\n",
    "days=[\"Monday\",\"Tuesday\",\"Friday\",\"Monday\"]\n",
    "week(days) \n"
   ]
  },
  {
   "cell_type": "code",
   "execution_count": 49,
   "metadata": {},
   "outputs": [
    {
     "name": "stdout",
     "output_type": "stream",
     "text": [
      "Not divisible by seven\n",
      "Not divisible by seven\n",
      "Not divisible by seven\n",
      "Not divisible by seven\n",
      "Not divisible by seven\n",
      "105\n",
      "Not divisible by seven\n",
      "Not divisible by seven\n",
      "Not divisible by seven\n",
      "Not divisible by seven\n",
      "Not divisible by seven\n",
      "Not divisible by seven\n",
      "112\n",
      "Not divisible by seven\n",
      "Not divisible by seven\n",
      "Not divisible by seven\n",
      "Not divisible by seven\n",
      "Not divisible by seven\n",
      "Not divisible by seven\n",
      "119\n",
      "Not divisible by seven\n",
      "Not divisible by seven\n",
      "Not divisible by seven\n",
      "Not divisible by seven\n",
      "Not divisible by seven\n",
      "Not divisible by seven\n",
      "126\n",
      "Not divisible by seven\n",
      "Not divisible by seven\n",
      "Not divisible by seven\n",
      "Not divisible by seven\n",
      "Not divisible by seven\n",
      "Not divisible by seven\n",
      "133\n",
      "Not divisible by seven\n",
      "Not divisible by seven\n",
      "Not divisible by seven\n",
      "Not divisible by seven\n",
      "Not divisible by seven\n",
      "Not divisible by seven\n",
      "140\n",
      "Not divisible by seven\n",
      "Not divisible by seven\n",
      "Not divisible by seven\n",
      "Not divisible by seven\n",
      "Not divisible by seven\n",
      "Not divisible by seven\n",
      "147\n",
      "Not divisible by seven\n",
      "Not divisible by seven\n",
      "Not divisible by seven\n",
      "Not divisible by seven\n",
      "Not divisible by seven\n",
      "Not divisible by seven\n",
      "154\n",
      "Not divisible by seven\n",
      "Not divisible by seven\n",
      "Not divisible by seven\n",
      "Not divisible by seven\n",
      "Not divisible by seven\n",
      "Not divisible by seven\n",
      "161\n",
      "Not divisible by seven\n",
      "Not divisible by seven\n",
      "Not divisible by seven\n",
      "Not divisible by seven\n",
      "Not divisible by seven\n",
      "Not divisible by seven\n",
      "168\n",
      "Not divisible by seven\n",
      "Not divisible by seven\n",
      "Not divisible by seven\n",
      "Not divisible by seven\n",
      "Not divisible by seven\n",
      "Not divisible by seven\n",
      "175\n",
      "Not divisible by seven\n",
      "Not divisible by seven\n",
      "Not divisible by seven\n",
      "Not divisible by seven\n",
      "Not divisible by seven\n",
      "Not divisible by seven\n",
      "182\n",
      "Not divisible by seven\n",
      "Not divisible by seven\n",
      "Not divisible by seven\n",
      "Not divisible by seven\n",
      "Not divisible by seven\n",
      "Not divisible by seven\n",
      "189\n",
      "Not divisible by seven\n",
      "Not divisible by seven\n",
      "Not divisible by seven\n",
      "Not divisible by seven\n",
      "Not divisible by seven\n",
      "Not divisible by seven\n",
      "196\n",
      "Not divisible by seven\n",
      "Not divisible by seven\n",
      "Not divisible by seven\n"
     ]
    }
   ],
   "source": [
    "def divisible_by_seven():\n",
    "    for x in range (100,200):\n",
    "        if x%7==0:\n",
    "            print(x)\n",
    "        else:\n",
    "            print(\"Not divisible by seven\")    \n",
    "divisible_by_seven()"
   ]
  },
  {
   "cell_type": "code",
   "execution_count": 50,
   "metadata": {},
   "outputs": [
    {
     "name": "stdout",
     "output_type": "stream",
     "text": [
      "CHILDREnplaying\n",
      "Tomrw\n"
     ]
    }
   ],
   "source": [
    "x=\"childrenplaying\"\n",
    "word=len(x)//2\n",
    "word2=(x[0:word]).upper()+(x[word:]).lower()\n",
    "print(word2)\n",
    "\n",
    "x=\"Tomorrow\"\n",
    "y=\"\"\n",
    "for i in x:\n",
    "    if i  not in y:\n",
    "        y+=i\n",
    "print(y)   \n"
   ]
  }
 ],
 "metadata": {
  "kernelspec": {
   "display_name": "Python 3",
   "language": "python",
   "name": "python3"
  },
  "language_info": {
   "codemirror_mode": {
    "name": "ipython",
    "version": 3
   },
   "file_extension": ".py",
   "mimetype": "text/x-python",
   "name": "python",
   "nbconvert_exporter": "python",
   "pygments_lexer": "ipython3",
   "version": "3.7.3"
  }
 },
 "nbformat": 4,
 "nbformat_minor": 2
}
